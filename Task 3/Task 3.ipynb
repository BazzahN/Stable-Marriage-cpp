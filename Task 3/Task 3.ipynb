{
 "cells": [
  {
   "cell_type": "markdown",
   "id": "9b845230",
   "metadata": {},
   "source": [
    "# Runtime Comparison For C++ and Python Code\n",
    "\n",
    "\n",
    "## Method\n",
    "\n",
    "Measuring average execution time $t(N)$  for **fun_algo (C++)** and **STBSOL_finder (python)** for varying preference table size in $H$ and $F$. Average execution time calculated from the $\\text{execution time}/M$ for a function after $M$ iterations. These execution times were then averaged over 4 different randomly generated preference tables $A$ and $B$ for $\\forall n \\in N$:\n",
    "\n",
    "| N (Length of A & B) | M (Repeated Simulations) | # pref tables \n",
    "| --- | --- | ---|\n",
    "| [4,6,8,9] | $10^5$| 4 |\n",
    "\n",
    "\n",
    "-  Execution times for **C++** were recorded in C++ using code found in the **Task 3 -> C++** folder.\n",
    "-  **python** times were recorded from code in this notebook\n",
    "\n",
    "Both of these tests were conducted in Windows, and not in Unix on the Virtual Machine\n",
    "\n",
    "****************"
   ]
  },
  {
   "cell_type": "markdown",
   "id": "cc908341",
   "metadata": {},
   "source": [
    "## Preference Table Generator and Writer\n",
    "\n",
    "Preference tables were randomly generated from random.seed(12345), they were saved as .csv files which were read by the **C++** code. These .csv files can be found in the **Task 3 -> C++**."
   ]
  },
  {
   "cell_type": "code",
   "execution_count": 1,
   "id": "351bd1e7",
   "metadata": {},
   "outputs": [],
   "source": [
    "##Random Preference Table Generator and Writer\n",
    "\n",
    "import random\n",
    "\n",
    "def pref_gen(A,B):\n",
    "    \n",
    "    N = len(A)\n",
    "    \n",
    "    if len(A) != len(B): #Raises error if input lists are of varying lengths\n",
    "        \n",
    "        raise ValueError(\"Input lists A and B are not of identical length\") \n",
    "    \n",
    "    \n",
    "    #Generates the an individual's preference for those in the other list\n",
    "    #for both of the input lists.\n",
    "    \n",
    "    A_prefs = {i:random.sample(B,N) for i in A}\n",
    "    \n",
    "    B_prefs = {i:random.sample(A,N) for i in B}\n",
    "    \n",
    "    return A_prefs,B_prefs\n",
    "\n",
    "##Writes Randomly generated Pref tables to .csv files\n",
    "def write_values_to_csv(dictionary, filename):\n",
    "    with open(filename, 'w', newline='') as csvfile:\n",
    "        writer = csv.writer(csvfile)\n",
    "        for value in dictionary.values():\n",
    "            writer.writerow(value)\n",
    "                "
   ]
  },
  {
   "cell_type": "code",
   "execution_count": 4,
   "id": "3670353a",
   "metadata": {},
   "outputs": [],
   "source": [
    "##Writes csv files for C++ code to read\n",
    "import csv\n",
    "for i in [4,6,8,9]:\n",
    "    random.seed(1234)\n",
    "    for j in range(0,4):\n",
    "        sets = [x for x in range(1,i+1)]\n",
    "        \n",
    "        nme = str(i) + '_' + str(j) + '.csv'\n",
    "        \n",
    "        A_prefs,B_prefs = pref_gen(sets,sets)\n",
    "        \n",
    "        write_values_to_csv(A_prefs, 'Aout_' + nme)\n",
    "        write_values_to_csv(B_prefs, 'Bout_' + nme)"
   ]
  },
  {
   "cell_type": "markdown",
   "id": "2485e5be",
   "metadata": {},
   "source": [
    "## Python Functions: IS_STABLE and STBSOL_finder"
   ]
  },
  {
   "cell_type": "code",
   "execution_count": 5,
   "id": "d4f5bb22",
   "metadata": {},
   "outputs": [],
   "source": [
    "### Pyhton Functions\n",
    "\n",
    "from itertools import zip_longest #Used for zip_longest\n",
    "\n",
    "##IS_STABLE and STBSOL_finder (fundamental algorithm) from previous assignment\n",
    "def IS_STABLE(mtch: list, H_pref : dict, F_pref : dict, rout = False):\n",
    "    \n",
    "    WF = set()\n",
    "    WH = set() #Stores 'Winners': those matched with their 1st pref\n",
    "\n",
    "    N_H = list(H_pref.keys())\n",
    "    N_F = list(F_pref.keys())\n",
    "    \n",
    "    F_temp = F_pref.copy()\n",
    "    H_temp = H_pref.copy()\n",
    "\n",
    "\n",
    "    stb = 1 #Stability Indicator, Output of IS_STABLE. 1 is yes 0 is no\n",
    "\n",
    "\n",
    "    ##Identifying Winners and Losers\n",
    "\n",
    "    for k_1,k_2 in mtch:\n",
    "\n",
    "        pH = H_temp[k_1][0] \n",
    "        pF = F_temp[k_2][0]  \n",
    "        \n",
    "        \n",
    "        if pH is k_2:\n",
    "            H_temp.pop(k_1)\n",
    "            WH.add(k_1) #If H gets 1st pref, add to WH set.\n",
    "\n",
    "\n",
    "        else: #'Losers' have preference table trimmed\n",
    "            \n",
    "            H_temp[k_1] = H_temp[k_1][:H_temp[k_1].index(k_2)] \n",
    "\n",
    "\n",
    "        if pF is k_1:\n",
    "            F_temp.pop(k_2)\n",
    "            WF.add(k_2)\n",
    "        else:\n",
    "            F_temp[k_2] = F_temp[k_2][:F_temp[k_2].index(k_1)] #Unsatisfied Hs and Fs will have both those\n",
    "                                                               #they prefer less than their curernt partner\n",
    "                                                               #and their current partner removed from their preferences.\n",
    "\n",
    "\n",
    "\n",
    "    key_Hs = set(N_H) - WH\n",
    "    key_Fs = set(N_F) - WF #Removes 'content' individuals from being iterated over. \n",
    "                         #They won't take part in the next bit.\n",
    "\n",
    "\n",
    "    ### Affair Process\n",
    "\n",
    "    ##Removes the 'Winners' from the 'Loser's preference tables\n",
    "\n",
    "    for k_F, k_H in zip_longest(key_Fs,key_Hs):\n",
    "\n",
    "        if k_F is not None:\n",
    "\n",
    "\n",
    "            F_temp[k_F]= list(set(F_temp[k_F]) - WH)\n",
    "\n",
    "            if not F_temp[k_F]:\n",
    "                F_temp.pop(k_F)\n",
    "\n",
    "        if k_H is not None:\n",
    "\n",
    "            H_temp[k_H]= list(set(H_temp[k_H]) - WF)\n",
    "\n",
    "            if not H_temp[k_H]:\n",
    "                H_temp.pop(k_H)\n",
    "\n",
    "\n",
    "    ##Identifies potential affairs from those remaining\n",
    "    for s_H, p_H in H_temp.items():\n",
    "\n",
    "        for s_F,p_F in F_temp.items():\n",
    "\n",
    "            if s_F in p_H and s_H in p_F: #Unstable if suitor F and suitor H are mutually amores \n",
    "\n",
    "                stb = 0\n",
    "    \n",
    "    if rout is True:\n",
    "    \n",
    "        if stb == 1:\n",
    "            print('Current Matching is Stable')\n",
    "\n",
    "        elif stb == 0:\n",
    "            print('Current Matching is Un-Stable')    \n",
    "    \n",
    "    return stb\n",
    "\n",
    "def STBSOL_finder(H_prefs, F_prefs, test = False):\n",
    "    \n",
    "  \n",
    "    \n",
    "    H = H_prefs.copy()\n",
    "    F = F_prefs.copy() #Copies pref tables for solution process\n",
    "   \n",
    "    F_keys = list(F.keys())\n",
    "    H_keys = list(H.keys())\n",
    "    \n",
    "    k = 0\n",
    "    n = len(H_prefs)\n",
    "    \n",
    "    \n",
    "    ###Initialises Matches and 'Undesirable Man' based on pref table format\n",
    "    if type(F_keys[0]) == str:\n",
    "        \n",
    "        omga = 'Z'\n",
    "        mtch = {i : omga for i in F_keys}\n",
    "        \n",
    "    elif type(F_keys[0]) == int:\n",
    "        \n",
    "        omga = n + 1 #Undesirable Male\n",
    "        mtch = {i : omga for i in range(1,omga)}\n",
    "   \n",
    "\n",
    "    \n",
    "    ###Algorithm 2 as seen in description\n",
    "    while k < n:\n",
    "\n",
    "        X = H_keys[k] \n",
    "\n",
    "        while X is not omga:\n",
    "\n",
    "            x = H[X][0]\n",
    "\n",
    "            x_p = F[x] \n",
    "\n",
    "            if X in x_p:\n",
    "\n",
    "                X_hld = mtch[x]\n",
    "                mtch[x] = X\n",
    "                F[x] = F[x][:F[x].index(X)]\n",
    "\n",
    "                X = X_hld\n",
    "\n",
    "\n",
    "\n",
    "            if X is not omga:\n",
    "\n",
    "                H[X].remove(x) #Suitors previous partner is removed from their preference list\n",
    "\n",
    "\n",
    "        k = k + 1\n",
    "        \n",
    "    sol = sorted([(j,i) for i,j in mtch.items()])\n",
    "    \n",
    "    if test is True:\n",
    "            \n",
    "        IS_STABLE(sol,H_prefs,F_prefs,False)\n",
    "            \n",
    "    return sol\n",
    "\n"
   ]
  },
  {
   "cell_type": "markdown",
   "id": "6b224b4a",
   "metadata": {},
   "source": [
    "## Python Runtime Simulation"
   ]
  },
  {
   "cell_type": "code",
   "execution_count": 6,
   "id": "fa14bea9",
   "metadata": {},
   "outputs": [],
   "source": [
    "import numpy as np\n",
    "import time \n",
    "\n",
    "##Modified timer function from previous assignment\n",
    "def timer(repeats):\n",
    "    def decorator(func):\n",
    "        def wrapper(*args, **kwargs):\n",
    "            \n",
    "            start_time = time.perf_counter()\n",
    "            for i in range(repeats):\n",
    "\n",
    "\n",
    "                func(*args, **kwargs)\n",
    "            \n",
    "            \n",
    "            end_time = time.perf_counter()\n",
    "            elapsed_time = (end_time - start_time)/repeats\n",
    "            \n",
    "            return elapsed_time\n",
    "        return wrapper\n",
    "    return decorator"
   ]
  },
  {
   "cell_type": "code",
   "execution_count": 10,
   "id": "e5a42280",
   "metadata": {},
   "outputs": [],
   "source": [
    "##Recording Python runtimes\n",
    "M = 10**5\n",
    "avg_ts_py = []\n",
    "\n",
    "for i in [4,6,8,9]:\n",
    "    random.seed(1234)\n",
    "    t_total = 0\n",
    "    for j in range(0,4):\n",
    "        sets = [x for x in range(1,i+1)]\n",
    "        \n",
    "        A_prefs,B_prefs = pref_gen(sets,sets) #Python implementation uses the exact same preference tables as C++\n",
    "        t_total = timer(10**5)(STBSOL_finder)(A_prefs,B_prefs,True)*10**6 + t_total\n",
    "        \n",
    "    avg_ts_py.append(t_total/4)\n",
    "        \n",
    "       "
   ]
  },
  {
   "cell_type": "markdown",
   "id": "647b1d6f",
   "metadata": {},
   "source": [
    "## Results"
   ]
  },
  {
   "cell_type": "code",
   "execution_count": 13,
   "id": "b4653477",
   "metadata": {},
   "outputs": [
    {
     "data": {
      "text/plain": [
       "[11.002960000000037,\n",
       " 14.025492749999984,\n",
       " 18.270863750000004,\n",
       " 19.136907499999936]"
      ]
     },
     "execution_count": 13,
     "metadata": {},
     "output_type": "execute_result"
    }
   ],
   "source": [
    "##Recorded Measurments from C++\n",
    "\n",
    "avg_ts_cpp = [7.08138,12.0007,16.1398,17.6445]\n",
    "avg_ts_cpp_o3 = [1.64628,3.92854,5.2701,5.89131]\n",
    "\n",
    "###Recorded Measuremnts from Python (Old) \n",
    "\n",
    "#avg_ts_py = [4.598401499997635, 6.07047899999543, 7.5735697499976595, 8.220098250003502]\n",
    "\n",
    "###Recorded Measuremnts from Python (New w/ IS_STABLE) \n",
    "\n",
    "avg_ts_py = [11.002960000000037,14.025492749999984,18.270863750000004,19.136907499999936]"
   ]
  },
  {
   "cell_type": "markdown",
   "id": "0d8683c0",
   "metadata": {},
   "source": [
    "### Old Results "
   ]
  },
  {
   "cell_type": "code",
   "execution_count": 16,
   "id": "98ff5d32",
   "metadata": {},
   "outputs": [
    {
     "data": {
      "image/png": "[encoded data removed]",
      "text/plain": [
       "<Figure size 432x288 with 1 Axes>"
      ]
     },
     "metadata": {
      "needs_background": "light"
     },
     "output_type": "display_data"
    }
   ],
   "source": [
    "import matplotlib.pyplot as plt\n",
    "\n",
    "avg_ts_py = [4.598401499997635, 6.07047899999543, 7.5735697499976595, 8.220098250003502] #STBSOL_finder w/out IS_STABLE\n",
    "\n",
    "Len = [4,6,8,9]\n",
    "\n",
    "# Plotting both lists on the same plot\n",
    "plt.plot(Len,avg_ts_py,'o', label='Python')\n",
    "plt.plot(Len,avg_ts_cpp,'o', label='C++')\n",
    "plt.plot(Len,avg_ts_cpp_o3,'o', label='C++ -O3')\n",
    "\n",
    "# Adding labels and legend\n",
    "plt.xlabel('$N$')\n",
    "plt.ylabel('Avg Execution Time ($\\mu s$)')\n",
    "plt.title('Runtime Comparison')\n",
    "plt.legend()\n",
    "\n",
    "# Display the plot\n",
    "plt.show()\n"
   ]
  },
  {
   "cell_type": "markdown",
   "id": "ad065b05",
   "metadata": {},
   "source": [
    "### New Results (see Addendum)"
   ]
  },
  {
   "cell_type": "code",
   "execution_count": 14,
   "id": "8d2eae0d",
   "metadata": {},
   "outputs": [
    {
     "data": {
      "image/png": "[encoded data removed]",
      "text/plain": [
       "<Figure size 432x288 with 1 Axes>"
      ]
     },
     "metadata": {
      "needs_background": "light"
     },
     "output_type": "display_data"
    }
   ],
   "source": [
    "import matplotlib.pyplot as plt\n",
    "\n",
    "Len = [4,6,8,9]\n",
    "\n",
    "avg_ts_py = [11.002960000000037,14.025492749999984,18.270863750000004,19.136907499999936] #New Results STBSOL_finder w/ IS_STABLE\n",
    "\n",
    "# Plotting both lists on the same plot\n",
    "plt.plot(Len,avg_ts_py,'o', label='Python')\n",
    "plt.plot(Len,avg_ts_cpp,'o', label='C++')\n",
    "plt.plot(Len,avg_ts_cpp_o3,'o', label='C++ -O3')\n",
    "\n",
    "# Adding labels and legend\n",
    "plt.xlabel('$N$')\n",
    "plt.ylabel('Avg Execution Time ($\\mu s$)')\n",
    "plt.title('Runtime Comparison')\n",
    "plt.legend()\n",
    "\n",
    "# Display the plot\n",
    "plt.show()\n"
   ]
  },
  {
   "cell_type": "markdown",
   "id": "c8cf7b08",
   "metadata": {},
   "source": [
    "### Discussion\n",
    "\n",
    "Unfortunatly, I have not had time to analytically determine the time complexity of my **C++** code. It is mentioned here, as I can not guarantee that my **C++** implementation is a direct transaltion of the **Python** code. That is to say, it may be that my **python** code is a more efficient realisation of the fundamental algorithm in comparison to the **C++** version. In reality the differences in efficiency are probably not so stark, or more likely, non-existent/negligible. It is still an important point to mention. \n",
    "\n",
    "Ignoring that caveat, we see that the **python** function has a consitently shorter average runtime in comparison to the compiled **C++** function without an Optimisation flag argument. The **C++** code also experiences a much steeper increase in execution time.\n",
    "\n",
    "When we compile the **C++** code with the '-O3' optimiser flag, the runtime decreases considerably; able to run faster than both the unoptimised **C++** code and the **python** code. Of course, this is as expected, as 3rd level optimisation is a trade off. The compilation time of the code is slower, but it should result in a faster executable program. We can see its effects here, but only to a limited degree. My **python** code had a time complexity of $O(n^3)$ which becomes more apparent as the length of the preference tables increases. It would be useful to see how the optimised **C++** fairs for $N \\geq 10$."
   ]
  },
  {
   "cell_type": "markdown",
   "id": "0159c9e1",
   "metadata": {},
   "source": [
    "### Addendum (4/3/24 10:20am)\n",
    "\n",
    "My python is now in fact slower than both compiled C++ codes. In the python study I neglected to include IS_STABLE while running STBSOL_finder, which obviously resulted in faster python code, as in both C++ codes I included an execution of IS_STABLE."
   ]
  }
 ],
 "metadata": {
  "kernelspec": {
   "display_name": "Python 3 (ipykernel)",
   "language": "python",
   "name": "python3"
  },
  "language_info": {
   "codemirror_mode": {
    "name": "ipython",
    "version": 3
   },
   "file_extension": ".py",
   "mimetype": "text/x-python",
   "name": "python",
   "nbconvert_exporter": "python",
   "pygments_lexer": "ipython3",
   "version": "3.9.7"
  }
 },
 "nbformat": 4,
 "nbformat_minor": 5
}
